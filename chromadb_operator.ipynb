{
 "cells": [
  {
   "cell_type": "code",
   "execution_count": 32,
   "metadata": {},
   "outputs": [],
   "source": [
    "import json\n",
    "import chromadb\n",
    "from chromadb.config import Settings\n",
    "import pandas as pd\n",
    "\n",
    "\n"
   ]
  },
  {
   "cell_type": "code",
   "execution_count": 37,
   "metadata": {},
   "outputs": [],
   "source": [
    "client = chromadb.HttpClient(\"http://localhost:8000\")\n",
    "collection = client.get_or_create_collection(\"mike-prod\")"
   ]
  },
  {
   "cell_type": "code",
   "execution_count": 38,
   "metadata": {},
   "outputs": [
    {
     "name": "stdout",
     "output_type": "stream",
     "text": [
      "Data import complete.\n"
     ]
    }
   ],
   "source": [
    "\n",
    "\n",
    "# Open and read JSONL file\n",
    "with open('chroma_export.jsonl', 'r') as f:\n",
    "    for line in f:\n",
    "        try:\n",
    "            # Parse each line into JSON\n",
    "            record = json.loads(line)\n",
    "            \n",
    "            # Extract data\n",
    "            text_chunk = record['text_chunk']\n",
    "            # embedding = record['embedding']\n",
    "            record_id = record['id']\n",
    "            # print(f\"Embedding type: {type(embedding)}, First 5 values: {embedding[:5]}\")\n",
    "                       \n",
    "            # Add data to ChromaDB\n",
    "            collection.add(\n",
    "                documents=[text_chunk],\n",
    "                ids=[record_id]\n",
    "            )\n",
    "\n",
    "\n",
    "        \n",
    "        except Exception as e:\n",
    "            print(f\"Error adding record {record_id}: {e}\")\n",
    "\n",
    "print(\"Data import complete.\")"
   ]
  },
  {
   "cell_type": "code",
   "execution_count": 39,
   "metadata": {},
   "outputs": [
    {
     "name": "stdout",
     "output_type": "stream",
     "text": [
      "Resultado 1: ['¿Es legal vender un piso por encima del valor catastral en España?', 'Cuáles son los pasos legales para comprar una propiedad en España?']\n"
     ]
    }
   ],
   "source": [
    "\n",
    "query_text = \"¿Cuáles son las restricciones legales para vender una vivienda en España?\"\n",
    "\n",
    "results = collection.query(\n",
    "    query_texts=[query_text], \n",
    "    n_results=2                \n",
    ")\n",
    "\n",
    "\n",
    "for i, result in enumerate(results['documents']):\n",
    "    print(f\"Resultado {i+1}: {result}\")\n"
   ]
  },
  {
   "cell_type": "code",
   "execution_count": 10,
   "metadata": {},
   "outputs": [
    {
     "name": "stdout",
     "output_type": "stream",
     "text": [
      "Collections:\n",
      "Collection(id=9d60d619-1901-4922-ab3a-8fc0766b3de9, name=mike-prod)\n"
     ]
    }
   ],
   "source": [
    "\n",
    "collections = client.list_collections()\n",
    "\n",
    "\n",
    "print(\"Collections:\")\n",
    "for collection in collections:\n",
    "    print(collection) "
   ]
  },
  {
   "cell_type": "code",
   "execution_count": 36,
   "metadata": {},
   "outputs": [
    {
     "name": "stdout",
     "output_type": "stream",
     "text": [
      "An error occurred: {\"error\":\"ValueError('Collection mike-prod does not exist.')\"}\n"
     ]
    }
   ],
   "source": [
    "\n",
    "collection_name = \"mike-prod\"\n",
    "\n",
    "\n",
    "try:\n",
    "    client.delete_collection(name=collection_name)\n",
    "    print(f\"Collection '{collection_name}' has been deleted successfully.\")\n",
    "except Exception as e:\n",
    "    print(f\"An error occurred: {e}\")\n"
   ]
  },
  {
   "cell_type": "code",
   "execution_count": null,
   "metadata": {},
   "outputs": [],
   "source": []
  }
 ],
 "metadata": {
  "kernelspec": {
   "display_name": "Python 3",
   "language": "python",
   "name": "python3"
  },
  "language_info": {
   "codemirror_mode": {
    "name": "ipython",
    "version": 3
   },
   "file_extension": ".py",
   "mimetype": "text/x-python",
   "name": "python",
   "nbconvert_exporter": "python",
   "pygments_lexer": "ipython3",
   "version": "3.11.9"
  }
 },
 "nbformat": 4,
 "nbformat_minor": 2
}
